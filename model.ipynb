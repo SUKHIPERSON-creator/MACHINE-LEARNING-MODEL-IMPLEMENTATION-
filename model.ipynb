{
 "cells": [
  {
   "cell_type": "code",
   "execution_count": 3,
   "id": "130b37bd-3892-4975-9707-7d4e5841ede1",
   "metadata": {},
   "outputs": [
    {
     "name": "stdout",
     "output_type": "stream",
     "text": [
      "   Unnamed: 0 label                                               text  \\\n",
      "0         605   ham  Subject: enron methanol ; meter # : 988291\\r\\n...   \n",
      "1        2349   ham  Subject: hpl nom for january 9 , 2001\\r\\n( see...   \n",
      "2        3624   ham  Subject: neon retreat\\r\\nho ho ho , we ' re ar...   \n",
      "3        4685  spam  Subject: photoshop , windows , office . cheap ...   \n",
      "4        2030   ham  Subject: re : indian springs\\r\\nthis deal is t...   \n",
      "\n",
      "   label_num  \n",
      "0          0  \n",
      "1          0  \n",
      "2          0  \n",
      "3          1  \n",
      "4          0  \n",
      "Accuracy : 0.9719806763285024\n",
      "Confusion Matrix:\n",
      " [[729  13]\n",
      " [ 16 277]]\n",
      "Prediction for custom email: 1\n"
     ]
    }
   ],
   "source": [
    "import pandas as pd\n",
    "#this library is used for read our data and analysis\n",
    "import numpy as num\n",
    "# this library is used for mathematics(numerical operation)\n",
    "from sklearn.feature_extraction.text import CountVectorizer\n",
    "#convert text into numerical features\n",
    "from sklearn.naive_bayes import MultinomialNB\n",
    "#multinomial naive bayes classifier\n",
    "from sklearn.metrics import accuracy_score,confusion_matrix\n",
    "#evaluating model performance \n",
    "from sklearn.model_selection import train_test_split\n",
    "#split data into traning or testset\n",
    "dataframe=pd.read_csv(\"spam_ham_dataset.csv\")\n",
    "#laod dataset from a csv.file\n",
    "print(dataframe.head())\n",
    "#for read a few lines above \n",
    "x= dataframe[\"text\"]\n",
    "y= dataframe[\"label_num\"]\n",
    "#split data into features (x)and labels(y)\n",
    "x_train,x_test,y_train,y_test = train_test_split(x,y,test_size=0.2,random_state= 42)\n",
    "##split data into features traning and testing sets\n",
    "cv= CountVectorizer()\n",
    "#make countvectorizer to convert text data into numerical features\n",
    "x_train_features = cv.fit_transform(x_train)\n",
    "x_test_features = cv.transform(x_test)\n",
    "#fit the vectorizer to the training data and transform both the traning and testing set\n",
    "model = MultinomialNB()\n",
    "#create a multinomial naive bayes classifier\n",
    "model.fit(x_train_features,y_train)\n",
    "#make predictions on this data \n",
    "y_predict = model.predict(x_test_features)\n",
    "accuracy = accuracy_score(y_test,y_predict)\n",
    "print(\"Accuracy :\",accuracy)\n",
    "print(\"Confusion Matrix:\\n\",confusion_matrix(y_test,y_predict))\n",
    "# test the model with a custom mail\n",
    "custom_email=[\"you've won a free iphone! Claim now.\"]\n",
    "custom_features=cv.transform(custom_email)\n",
    "print(\"Prediction for custom email:\",model.predict(custom_features)[0])\n",
    "\n"
   ]
  }
 ],
 "metadata": {
  "kernelspec": {
   "display_name": "anaconda-2024.02-py310",
   "language": "python",
   "name": "conda-env-anaconda-2024.02-py310-py"
  },
  "language_info": {
   "codemirror_mode": {
    "name": "ipython",
    "version": 3
   },
   "file_extension": ".py",
   "mimetype": "text/x-python",
   "name": "python",
   "nbconvert_exporter": "python",
   "pygments_lexer": "ipython3",
   "version": "3.10.14"
  }
 },
 "nbformat": 4,
 "nbformat_minor": 5
}
